{
 "cells": [
  {
   "cell_type": "code",
   "execution_count": 1,
   "metadata": {},
   "outputs": [],
   "source": [
    "import numpy as np\n",
    "import pandas as pd\n",
    "import re\n",
    "import Levenshtein\n",
    "\n",
    "def chunk(row):\n",
    "  text = row.iloc[0]\n",
    "  text = re.sub(r\"â€™\", \"\\'\", text)\n",
    "  text = re.sub(r\"Â\", \"\", text)\n",
    "  text = re.sub(r\"Q\\.\", \"999PLACEHOLDER999 Q.\", text)\n",
    "  QnA = re.split(r\"999PLACEHOLDER999\", text)[1:] # blocks of Questions and Answers\n",
    "  return QnA\n",
    "\n",
    "# helper function to fix OCR errors for and standardize interviewee names\n",
    "def find_name(interviewee, names):\n",
    "  interviewee_lower = interviewee.lower()\n",
    "  closest_name = None\n",
    "  min = 10000\n",
    "  for name in names:\n",
    "    dist = Levenshtein.distance(interviewee_lower, name.lower())\n",
    "    if dist < min:\n",
    "      min = dist\n",
    "      closest_name = name\n",
    "  return closest_name\n",
    "\n",
    "# helper function to separate the questions and answers\n",
    "# such that it's like a pair of questions and answers with the event, date, and interviewee attached\n",
    "\n",
    "def separate(row):\n",
    "  # input is a row\n",
    "  interview = row.iloc[0]\n",
    "  event = row.iloc[1]\n",
    "  date = row.iloc[2]\n",
    "  names = row.iloc[3]\n",
    "  output = []\n",
    "  for text in interview: # for each question and its following response(s)\n",
    "    q_and_a = re.split(r\"\\n(?=[A-ZÀ-Ÿ ,.-]+:)\", text)\n",
    "    question = re.sub(r\"Q\\.\", \"\", q_and_a[0]).strip()\n",
    "    for answer in q_and_a[1:]: # go through the responses in case there are multiple responders\n",
    "      interviewee = re.search(r\"([A-ZÀ-Ÿ ,.-]+)(:)\", answer)\n",
    "      # use levenshtein distance to standardize the names\n",
    "      name = find_name(interviewee.group(1), names)\n",
    "      answer_noname = re.sub(interviewee.group(0), \"\", answer).strip()\n",
    "      output.append([question, answer_noname, event, date, name])\n",
    "  return output"
   ]
  },
  {
   "cell_type": "code",
   "execution_count": null,
   "metadata": {},
   "outputs": [
    {
     "name": "stdout",
     "output_type": "stream",
     "text": [
      "1795\n"
     ]
    }
   ],
   "source": [
    "data = pd.read_csv(\"corpus_creation/interviews_raw.csv\", converters={'names': pd.eval})\n",
    "data.drop_duplicates(subset='text', inplace=True)\n",
    "\n",
    "mlb_data = data[data['event'].str.contains(\"MLB |NL |AL |WORLD SERIES|HOME RUN CHASE|MEDIA CONFERENCE\", case=False, regex=True)]\n",
    "to_drop = mlb_data[mlb_data['event'].str.contains(\"NCAA|UNIVERSITY|COLLEGE|COLLEGIATE|STATE|MUNDIAL|ATLANTIC COAST|WINTER MEETINGS\")].index\n",
    "mlb_data = mlb_data.drop(to_drop)\n",
    "mlb_data['text'] = mlb_data.apply(chunk, axis=1)\n",
    "chunked = mlb_data[mlb_data['text'].map(len) > 0]\n",
    "separated = chunked.apply(separate, axis=1)\n",
    "separated_flattened = [x for xs in separated for x in xs]\n",
    "# print(separated_flattened)\n",
    "df = pd.DataFrame(separated_flattened, columns=['question', 'answer', 'event', 'date', 'name'])\n",
    "display(df)"
   ]
  },
  {
   "cell_type": "code",
   "execution_count": null,
   "metadata": {},
   "outputs": [],
   "source": [
    "names = pd.Series(pd.unique(df['name'])) # so inefficient it's embarrassing\n",
    "names.to_csv(\"corpus_creation/interviewee_names.csv\", index=False)\n",
    "events = pd.Series(pd.unique(df['event'])) # so inefficient it's embarrassing\n",
    "events.to_csv(\"corpus_creation/events.csv\", index=False)\n",
    "df.to_csv(\"corpus_creation/sportsQnA.csv\", index=False)"
   ]
  }
 ],
 "metadata": {
  "kernelspec": {
   "display_name": "3.11.9",
   "language": "python",
   "name": "python3"
  },
  "language_info": {
   "codemirror_mode": {
    "name": "ipython",
    "version": 3
   },
   "file_extension": ".py",
   "mimetype": "text/x-python",
   "name": "python",
   "nbconvert_exporter": "python",
   "pygments_lexer": "ipython3",
   "version": "3.11.9"
  }
 },
 "nbformat": 4,
 "nbformat_minor": 2
}
