{
 "cells": [
  {
   "cell_type": "code",
   "execution_count": 1,
   "id": "05ccabce",
   "metadata": {},
   "outputs": [],
   "source": [
    "import numpy as np\n",
    "import pandas as pd\n",
    "\n",
    "df = pd.read_csv(\"data/sportsQnA.csv\", dtype=\"string\").dropna()\n",
    "asian_countries = [\"China\", \"Japan\", \"South Korea\", \"Taiwan\", \"Hong Kong\"]\n",
    "\n",
    "df_asia = df[df['nationality'].isin(asian_countries)] # players from asia\n",
    "df_usa = df[df['nationality'] == \"United States\"] # players from america"
   ]
  },
  {
   "cell_type": "code",
   "execution_count": null,
   "id": "3e9bfa91",
   "metadata": {},
   "outputs": [],
   "source": [
    "from sklearn.feature_extraction.text import CountVectorizer, TfidfVectorizer\n",
    "\n",
    "q_asia = df_asia['question']\n",
    "q_usa = df_usa['question']\n",
    "\n",
    "def vectorize(data):\n",
    "  vectorizer = CountVectorizer(stop_words='english')\n",
    "  X = vectorizer.fit_transform(data).todense()\n",
    "  output = pd.DataFrame(X, columns=vectorizer.get_feature_names_out())\n",
    "  return output\n",
    "\n",
    "v_asia = vectorize(q_asia)\n",
    "v_usa = vectorize(q_usa)"
   ]
  }
 ],
 "metadata": {
  "kernelspec": {
   "display_name": "3.11.9",
   "language": "python",
   "name": "python3"
  },
  "language_info": {
   "codemirror_mode": {
    "name": "ipython",
    "version": 3
   },
   "file_extension": ".py",
   "mimetype": "text/x-python",
   "name": "python",
   "nbconvert_exporter": "python",
   "pygments_lexer": "ipython3",
   "version": "3.11.9"
  }
 },
 "nbformat": 4,
 "nbformat_minor": 5
}
